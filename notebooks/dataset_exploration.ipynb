{
 "cells": [
  {
   "cell_type": "markdown",
   "metadata": {},
   "source": [
    "# Dataset Details - Stanford Dogs Dataset"
   ]
  },
  {
   "cell_type": "markdown",
   "metadata": {},
   "source": [
    "This EDA aims to provide a comprehensive overview of the dog images dataset, focusing on dataset characteristics, image properties, and label distribution. Understanding these aspects is crucial for building an effective image classification model.\n",
    "\n",
    "Look for the model card in [here](/docs/Dataset_card.md)"
   ]
  },
  {
   "cell_type": "code",
   "execution_count": 43,
   "metadata": {},
   "outputs": [],
   "source": [
    "import os\n",
    "import pandas as pd\n",
    "from PIL import Image\n",
    "import plotly.express as px"
   ]
  },
  {
   "cell_type": "code",
   "execution_count": 44,
   "metadata": {},
   "outputs": [],
   "source": [
    "RAW_DATA = '../data/raw/'\n",
    "RAW_TRAIN_DATA = '../data/raw/train/'\n",
    "RAW_TEST_DATA = '../data/raw/test/'"
   ]
  },
  {
   "cell_type": "markdown",
   "metadata": {},
   "source": [
    "## Dataset Overview"
   ]
  },
  {
   "cell_type": "code",
   "execution_count": 45,
   "metadata": {},
   "outputs": [],
   "source": [
    "# Helper function to get size in MB\n",
    "def get_size_in_mb(path):\n",
    "    total_size = 0\n",
    "    for dirpath, dirnames, filenames in os.walk(path):\n",
    "        for file in filenames:\n",
    "            file_path = os.path.join(dirpath, file)\n",
    "            total_size += os.path.getsize(file_path)\n",
    "    return total_size / (1024 * 1024)  # Convert to MB\n",
    "\n",
    "# Helper function to get image details\n",
    "def get_image_details(image_path):\n",
    "    with Image.open(image_path) as img:\n",
    "        width, height = img.size\n",
    "        mode = img.mode\n",
    "        img_format = img.format\n",
    "    return width, height, mode, img_format"
   ]
  },
  {
   "cell_type": "code",
   "execution_count": 46,
   "metadata": {},
   "outputs": [
    {
     "name": "stdout",
     "output_type": "stream",
     "text": [
      "Train Data Size: 344.94 MB\n",
      "Test Data Size: 346.23 MB\n",
      "Total Train Images: 10222\n",
      "Total Test Images: 10357\n",
      "Data Split from Total Images: 49.67% Train - 50.33% Test\n"
     ]
    }
   ],
   "source": [
    "# Dataset-related EDA\n",
    "def dataset_info():\n",
    "    train_size_mb = get_size_in_mb(RAW_TRAIN_DATA)\n",
    "    test_size_mb = get_size_in_mb(RAW_TEST_DATA)\n",
    "\n",
    "    num_train_images = sum([len(files) for r, d, files in os.walk(RAW_TRAIN_DATA)])\n",
    "    num_test_images = sum([len(files) for r, d, files in os.walk(RAW_TEST_DATA)])\n",
    "\n",
    "    train_test_split = f\"{num_train_images / (num_train_images + num_test_images) * 100:.2f}% Train - {num_test_images / (num_train_images + num_test_images) * 100:.2f}% Test\"\n",
    "\n",
    "    print(f\"Train Data Size: {train_size_mb:.2f} MB\")\n",
    "    print(f\"Test Data Size: {test_size_mb:.2f} MB\")\n",
    "    print(f\"Total Train Images: {num_train_images}\")\n",
    "    print(f\"Total Test Images: {num_test_images}\")\n",
    "    print(f\"Data Split from Total Images: {train_test_split}\")\n",
    "\n",
    "dataset_info()"
   ]
  },
  {
   "cell_type": "code",
   "execution_count": 47,
   "metadata": {},
   "outputs": [
    {
     "name": "stdout",
     "output_type": "stream",
     "text": [
      "\n",
      "Image Info (Train Dataset):\n",
      "Average Resolution: [443.33153982 386.7472119 ]\n",
      "Image Format Distribution: JPEG    10222\n",
      "Name: Format, dtype: int64\n",
      "Image Mode (Channels) Distribution: RGB    10222\n",
      "Name: Mode, dtype: int64\n"
     ]
    }
   ],
   "source": [
    "# Image-related EDA\n",
    "def image_info():\n",
    "    image_data = []\n",
    "    for dirpath, _, filenames in os.walk(RAW_TRAIN_DATA):\n",
    "        for file in filenames:\n",
    "            file_path = os.path.join(dirpath, file)\n",
    "            width, height, mode, img_format = get_image_details(file_path)\n",
    "            image_data.append([file_path, width, height, mode, img_format])\n",
    "\n",
    "    df_images = pd.DataFrame(image_data, columns=['Path', 'Width', 'Height', 'Mode', 'Format'])\n",
    "    \n",
    "    print(f\"\\nImage Info (Train Dataset):\")\n",
    "    print(f\"Average Resolution: {df_images[['Width', 'Height']].mean().values}\")\n",
    "    print(f\"Image Format Distribution: {df_images['Format'].value_counts()}\")\n",
    "    print(f\"Image Mode (Channels) Distribution: {df_images['Mode'].value_counts()}\")\n",
    "\n",
    "image_info()"
   ]
  },
  {
   "cell_type": "code",
   "execution_count": 48,
   "metadata": {},
   "outputs": [
    {
     "name": "stdout",
     "output_type": "stream",
     "text": [
      "Total number of classes (breeds): 120\n"
     ]
    }
   ],
   "source": [
    "labels_path = RAW_DATA + 'labels.csv'\n",
    "labels_df = pd.read_csv(labels_path)\n",
    "\n",
    "# 1. Number of Classes (Breeds)\n",
    "num_classes = labels_df['breed'].nunique()\n",
    "print(f\"Total number of classes (breeds): {num_classes}\")\n",
    "\n",
    "class_distribution = labels_df['breed'].value_counts()"
   ]
  },
  {
   "cell_type": "code",
   "execution_count": 49,
   "metadata": {},
   "outputs": [
    {
     "name": "stdout",
     "output_type": "stream",
     "text": [
      "\n",
      "Most Frequent Breeds (Top 10):\n",
      "scottish_deerhound      126\n",
      "maltese_dog             117\n",
      "afghan_hound            116\n",
      "entlebucher             115\n",
      "bernese_mountain_dog    114\n",
      "shih-tzu                112\n",
      "great_pyrenees          111\n",
      "pomeranian              111\n",
      "basenji                 110\n",
      "samoyed                 109\n",
      "Name: breed, dtype: int64\n",
      "\n",
      "Least Frequent Breeds (Bottom 10):\n",
      "otterhound           69\n",
      "german_shepherd      69\n",
      "walker_hound         69\n",
      "tibetan_mastiff      69\n",
      "giant_schnauzer      69\n",
      "golden_retriever     67\n",
      "brabancon_griffon    67\n",
      "komondor             67\n",
      "eskimo_dog           66\n",
      "briard               66\n",
      "Name: breed, dtype: int64\n"
     ]
    }
   ],
   "source": [
    "# 3. Most and Least Frequent Classes\n",
    "most_frequent = class_distribution.head(10)\n",
    "least_frequent = class_distribution.tail(10)\n",
    "\n",
    "print(\"\\nMost Frequent Breeds (Top 10):\")\n",
    "print(most_frequent)\n",
    "\n",
    "print(\"\\nLeast Frequent Breeds (Bottom 10):\")\n",
    "print(least_frequent)"
   ]
  },
  {
   "cell_type": "code",
   "execution_count": 50,
   "metadata": {},
   "outputs": [
    {
     "data": {
      "application/vnd.plotly.v1+json": {
       "config": {
        "plotlyServerURL": "https://plot.ly"
       },
       "data": [
        {
         "alignmentgroup": "True",
         "hovertemplate": "<b>%{hovertext}</b><br><br>index=%{x}<br>Number of Images=%{y}<extra></extra>",
         "hovertext": [
          "scottish_deerhound",
          "maltese_dog",
          "afghan_hound",
          "entlebucher",
          "bernese_mountain_dog",
          "shih-tzu",
          "great_pyrenees",
          "pomeranian",
          "basenji",
          "samoyed",
          "airedale",
          "tibetan_terrier",
          "leonberg",
          "cairn",
          "beagle",
          "japanese_spaniel",
          "australian_terrier",
          "blenheim_spaniel",
          "miniature_pinscher",
          "irish_wolfhound",
          "lakeland_terrier",
          "saluki",
          "papillon",
          "norwegian_elkhound",
          "whippet",
          "siberian_husky",
          "pug",
          "chow",
          "italian_greyhound",
          "pembroke",
          "ibizan_hound",
          "border_terrier",
          "newfoundland",
          "lhasa",
          "silky_terrier",
          "dandie_dinmont",
          "bedlington_terrier",
          "sealyham_terrier",
          "irish_setter",
          "rhodesian_ridgeback",
          "old_english_sheepdog",
          "collie",
          "boston_bull",
          "schipperke",
          "bouvier_des_flandres",
          "kelpie",
          "english_foxhound",
          "african_hunting_dog",
          "bloodhound",
          "bluetick",
          "weimaraner",
          "saint_bernard",
          "labrador_retriever",
          "english_setter",
          "chesapeake_bay_retriever",
          "norfolk_terrier",
          "scotch_terrier",
          "groenendael",
          "wire-haired_fox_terrier",
          "basset",
          "kerry_blue_terrier",
          "irish_terrier",
          "yorkshire_terrier",
          "greater_swiss_mountain_dog",
          "malamute",
          "gordon_setter",
          "keeshond",
          "west_highland_white_terrier",
          "dingo",
          "toy_poodle",
          "mexican_hairless",
          "clumber",
          "affenpinscher",
          "standard_poodle",
          "miniature_poodle",
          "staffordshire_bullterrier",
          "toy_terrier",
          "welsh_springer_spaniel",
          "irish_water_spaniel",
          "appenzeller",
          "sussex_spaniel",
          "miniature_schnauzer",
          "norwich_terrier",
          "black-and-tan_coonhound",
          "dhole",
          "shetland_sheepdog",
          "rottweiler",
          "cardigan",
          "bull_mastiff",
          "boxer",
          "english_springer",
          "german_short-haired_pointer",
          "pekinese",
          "great_dane",
          "borzoi",
          "american_staffordshire_terrier",
          "doberman",
          "cocker_spaniel",
          "malinois",
          "brittany_spaniel",
          "standard_schnauzer",
          "curly-coated_retriever",
          "flat-coated_retriever",
          "border_collie",
          "redbone",
          "kuvasz",
          "chihuahua",
          "soft-coated_wheaten_terrier",
          "french_bulldog",
          "vizsla",
          "otterhound",
          "german_shepherd",
          "walker_hound",
          "tibetan_mastiff",
          "giant_schnauzer",
          "golden_retriever",
          "brabancon_griffon",
          "komondor",
          "eskimo_dog",
          "briard"
         ],
         "legendgroup": "",
         "marker": {
          "color": "#636efa",
          "pattern": {
           "shape": ""
          }
         },
         "name": "",
         "offsetgroup": "",
         "orientation": "v",
         "showlegend": false,
         "textposition": "auto",
         "type": "bar",
         "x": [
          "scottish_deerhound",
          "maltese_dog",
          "afghan_hound",
          "entlebucher",
          "bernese_mountain_dog",
          "shih-tzu",
          "great_pyrenees",
          "pomeranian",
          "basenji",
          "samoyed",
          "airedale",
          "tibetan_terrier",
          "leonberg",
          "cairn",
          "beagle",
          "japanese_spaniel",
          "australian_terrier",
          "blenheim_spaniel",
          "miniature_pinscher",
          "irish_wolfhound",
          "lakeland_terrier",
          "saluki",
          "papillon",
          "norwegian_elkhound",
          "whippet",
          "siberian_husky",
          "pug",
          "chow",
          "italian_greyhound",
          "pembroke",
          "ibizan_hound",
          "border_terrier",
          "newfoundland",
          "lhasa",
          "silky_terrier",
          "dandie_dinmont",
          "bedlington_terrier",
          "sealyham_terrier",
          "irish_setter",
          "rhodesian_ridgeback",
          "old_english_sheepdog",
          "collie",
          "boston_bull",
          "schipperke",
          "bouvier_des_flandres",
          "kelpie",
          "english_foxhound",
          "african_hunting_dog",
          "bloodhound",
          "bluetick",
          "weimaraner",
          "saint_bernard",
          "labrador_retriever",
          "english_setter",
          "chesapeake_bay_retriever",
          "norfolk_terrier",
          "scotch_terrier",
          "groenendael",
          "wire-haired_fox_terrier",
          "basset",
          "kerry_blue_terrier",
          "irish_terrier",
          "yorkshire_terrier",
          "greater_swiss_mountain_dog",
          "malamute",
          "gordon_setter",
          "keeshond",
          "west_highland_white_terrier",
          "dingo",
          "toy_poodle",
          "mexican_hairless",
          "clumber",
          "affenpinscher",
          "standard_poodle",
          "miniature_poodle",
          "staffordshire_bullterrier",
          "toy_terrier",
          "welsh_springer_spaniel",
          "irish_water_spaniel",
          "appenzeller",
          "sussex_spaniel",
          "miniature_schnauzer",
          "norwich_terrier",
          "black-and-tan_coonhound",
          "dhole",
          "shetland_sheepdog",
          "rottweiler",
          "cardigan",
          "bull_mastiff",
          "boxer",
          "english_springer",
          "german_short-haired_pointer",
          "pekinese",
          "great_dane",
          "borzoi",
          "american_staffordshire_terrier",
          "doberman",
          "cocker_spaniel",
          "malinois",
          "brittany_spaniel",
          "standard_schnauzer",
          "curly-coated_retriever",
          "flat-coated_retriever",
          "border_collie",
          "redbone",
          "kuvasz",
          "chihuahua",
          "soft-coated_wheaten_terrier",
          "french_bulldog",
          "vizsla",
          "otterhound",
          "german_shepherd",
          "walker_hound",
          "tibetan_mastiff",
          "giant_schnauzer",
          "golden_retriever",
          "brabancon_griffon",
          "komondor",
          "eskimo_dog",
          "briard"
         ],
         "xaxis": "x",
         "y": [
          126,
          117,
          116,
          115,
          114,
          112,
          111,
          111,
          110,
          109,
          107,
          107,
          106,
          106,
          105,
          105,
          102,
          102,
          102,
          101,
          99,
          99,
          96,
          95,
          95,
          95,
          94,
          93,
          92,
          92,
          91,
          91,
          91,
          90,
          90,
          89,
          89,
          88,
          88,
          88,
          87,
          87,
          87,
          86,
          86,
          86,
          86,
          86,
          85,
          85,
          85,
          84,
          84,
          83,
          83,
          83,
          82,
          82,
          82,
          82,
          82,
          82,
          82,
          82,
          81,
          81,
          81,
          81,
          80,
          80,
          80,
          80,
          80,
          79,
          79,
          79,
          79,
          79,
          78,
          78,
          78,
          78,
          78,
          77,
          76,
          76,
          76,
          76,
          75,
          75,
          75,
          75,
          75,
          75,
          75,
          74,
          74,
          74,
          73,
          73,
          72,
          72,
          72,
          72,
          72,
          71,
          71,
          71,
          70,
          70,
          69,
          69,
          69,
          69,
          69,
          67,
          67,
          67,
          66,
          66
         ],
         "yaxis": "y"
        }
       ],
       "layout": {
        "barmode": "relative",
        "height": 600,
        "legend": {
         "tracegroupgap": 0
        },
        "showlegend": false,
        "template": {
         "data": {
          "bar": [
           {
            "error_x": {
             "color": "#2a3f5f"
            },
            "error_y": {
             "color": "#2a3f5f"
            },
            "marker": {
             "line": {
              "color": "#E5ECF6",
              "width": 0.5
             },
             "pattern": {
              "fillmode": "overlay",
              "size": 10,
              "solidity": 0.2
             }
            },
            "type": "bar"
           }
          ],
          "barpolar": [
           {
            "marker": {
             "line": {
              "color": "#E5ECF6",
              "width": 0.5
             },
             "pattern": {
              "fillmode": "overlay",
              "size": 10,
              "solidity": 0.2
             }
            },
            "type": "barpolar"
           }
          ],
          "carpet": [
           {
            "aaxis": {
             "endlinecolor": "#2a3f5f",
             "gridcolor": "white",
             "linecolor": "white",
             "minorgridcolor": "white",
             "startlinecolor": "#2a3f5f"
            },
            "baxis": {
             "endlinecolor": "#2a3f5f",
             "gridcolor": "white",
             "linecolor": "white",
             "minorgridcolor": "white",
             "startlinecolor": "#2a3f5f"
            },
            "type": "carpet"
           }
          ],
          "choropleth": [
           {
            "colorbar": {
             "outlinewidth": 0,
             "ticks": ""
            },
            "type": "choropleth"
           }
          ],
          "contour": [
           {
            "colorbar": {
             "outlinewidth": 0,
             "ticks": ""
            },
            "colorscale": [
             [
              0,
              "#0d0887"
             ],
             [
              0.1111111111111111,
              "#46039f"
             ],
             [
              0.2222222222222222,
              "#7201a8"
             ],
             [
              0.3333333333333333,
              "#9c179e"
             ],
             [
              0.4444444444444444,
              "#bd3786"
             ],
             [
              0.5555555555555556,
              "#d8576b"
             ],
             [
              0.6666666666666666,
              "#ed7953"
             ],
             [
              0.7777777777777778,
              "#fb9f3a"
             ],
             [
              0.8888888888888888,
              "#fdca26"
             ],
             [
              1,
              "#f0f921"
             ]
            ],
            "type": "contour"
           }
          ],
          "contourcarpet": [
           {
            "colorbar": {
             "outlinewidth": 0,
             "ticks": ""
            },
            "type": "contourcarpet"
           }
          ],
          "heatmap": [
           {
            "colorbar": {
             "outlinewidth": 0,
             "ticks": ""
            },
            "colorscale": [
             [
              0,
              "#0d0887"
             ],
             [
              0.1111111111111111,
              "#46039f"
             ],
             [
              0.2222222222222222,
              "#7201a8"
             ],
             [
              0.3333333333333333,
              "#9c179e"
             ],
             [
              0.4444444444444444,
              "#bd3786"
             ],
             [
              0.5555555555555556,
              "#d8576b"
             ],
             [
              0.6666666666666666,
              "#ed7953"
             ],
             [
              0.7777777777777778,
              "#fb9f3a"
             ],
             [
              0.8888888888888888,
              "#fdca26"
             ],
             [
              1,
              "#f0f921"
             ]
            ],
            "type": "heatmap"
           }
          ],
          "heatmapgl": [
           {
            "colorbar": {
             "outlinewidth": 0,
             "ticks": ""
            },
            "colorscale": [
             [
              0,
              "#0d0887"
             ],
             [
              0.1111111111111111,
              "#46039f"
             ],
             [
              0.2222222222222222,
              "#7201a8"
             ],
             [
              0.3333333333333333,
              "#9c179e"
             ],
             [
              0.4444444444444444,
              "#bd3786"
             ],
             [
              0.5555555555555556,
              "#d8576b"
             ],
             [
              0.6666666666666666,
              "#ed7953"
             ],
             [
              0.7777777777777778,
              "#fb9f3a"
             ],
             [
              0.8888888888888888,
              "#fdca26"
             ],
             [
              1,
              "#f0f921"
             ]
            ],
            "type": "heatmapgl"
           }
          ],
          "histogram": [
           {
            "marker": {
             "pattern": {
              "fillmode": "overlay",
              "size": 10,
              "solidity": 0.2
             }
            },
            "type": "histogram"
           }
          ],
          "histogram2d": [
           {
            "colorbar": {
             "outlinewidth": 0,
             "ticks": ""
            },
            "colorscale": [
             [
              0,
              "#0d0887"
             ],
             [
              0.1111111111111111,
              "#46039f"
             ],
             [
              0.2222222222222222,
              "#7201a8"
             ],
             [
              0.3333333333333333,
              "#9c179e"
             ],
             [
              0.4444444444444444,
              "#bd3786"
             ],
             [
              0.5555555555555556,
              "#d8576b"
             ],
             [
              0.6666666666666666,
              "#ed7953"
             ],
             [
              0.7777777777777778,
              "#fb9f3a"
             ],
             [
              0.8888888888888888,
              "#fdca26"
             ],
             [
              1,
              "#f0f921"
             ]
            ],
            "type": "histogram2d"
           }
          ],
          "histogram2dcontour": [
           {
            "colorbar": {
             "outlinewidth": 0,
             "ticks": ""
            },
            "colorscale": [
             [
              0,
              "#0d0887"
             ],
             [
              0.1111111111111111,
              "#46039f"
             ],
             [
              0.2222222222222222,
              "#7201a8"
             ],
             [
              0.3333333333333333,
              "#9c179e"
             ],
             [
              0.4444444444444444,
              "#bd3786"
             ],
             [
              0.5555555555555556,
              "#d8576b"
             ],
             [
              0.6666666666666666,
              "#ed7953"
             ],
             [
              0.7777777777777778,
              "#fb9f3a"
             ],
             [
              0.8888888888888888,
              "#fdca26"
             ],
             [
              1,
              "#f0f921"
             ]
            ],
            "type": "histogram2dcontour"
           }
          ],
          "mesh3d": [
           {
            "colorbar": {
             "outlinewidth": 0,
             "ticks": ""
            },
            "type": "mesh3d"
           }
          ],
          "parcoords": [
           {
            "line": {
             "colorbar": {
              "outlinewidth": 0,
              "ticks": ""
             }
            },
            "type": "parcoords"
           }
          ],
          "pie": [
           {
            "automargin": true,
            "type": "pie"
           }
          ],
          "scatter": [
           {
            "marker": {
             "colorbar": {
              "outlinewidth": 0,
              "ticks": ""
             }
            },
            "type": "scatter"
           }
          ],
          "scatter3d": [
           {
            "line": {
             "colorbar": {
              "outlinewidth": 0,
              "ticks": ""
             }
            },
            "marker": {
             "colorbar": {
              "outlinewidth": 0,
              "ticks": ""
             }
            },
            "type": "scatter3d"
           }
          ],
          "scattercarpet": [
           {
            "marker": {
             "colorbar": {
              "outlinewidth": 0,
              "ticks": ""
             }
            },
            "type": "scattercarpet"
           }
          ],
          "scattergeo": [
           {
            "marker": {
             "colorbar": {
              "outlinewidth": 0,
              "ticks": ""
             }
            },
            "type": "scattergeo"
           }
          ],
          "scattergl": [
           {
            "marker": {
             "colorbar": {
              "outlinewidth": 0,
              "ticks": ""
             }
            },
            "type": "scattergl"
           }
          ],
          "scattermapbox": [
           {
            "marker": {
             "colorbar": {
              "outlinewidth": 0,
              "ticks": ""
             }
            },
            "type": "scattermapbox"
           }
          ],
          "scatterpolar": [
           {
            "marker": {
             "colorbar": {
              "outlinewidth": 0,
              "ticks": ""
             }
            },
            "type": "scatterpolar"
           }
          ],
          "scatterpolargl": [
           {
            "marker": {
             "colorbar": {
              "outlinewidth": 0,
              "ticks": ""
             }
            },
            "type": "scatterpolargl"
           }
          ],
          "scatterternary": [
           {
            "marker": {
             "colorbar": {
              "outlinewidth": 0,
              "ticks": ""
             }
            },
            "type": "scatterternary"
           }
          ],
          "surface": [
           {
            "colorbar": {
             "outlinewidth": 0,
             "ticks": ""
            },
            "colorscale": [
             [
              0,
              "#0d0887"
             ],
             [
              0.1111111111111111,
              "#46039f"
             ],
             [
              0.2222222222222222,
              "#7201a8"
             ],
             [
              0.3333333333333333,
              "#9c179e"
             ],
             [
              0.4444444444444444,
              "#bd3786"
             ],
             [
              0.5555555555555556,
              "#d8576b"
             ],
             [
              0.6666666666666666,
              "#ed7953"
             ],
             [
              0.7777777777777778,
              "#fb9f3a"
             ],
             [
              0.8888888888888888,
              "#fdca26"
             ],
             [
              1,
              "#f0f921"
             ]
            ],
            "type": "surface"
           }
          ],
          "table": [
           {
            "cells": {
             "fill": {
              "color": "#EBF0F8"
             },
             "line": {
              "color": "white"
             }
            },
            "header": {
             "fill": {
              "color": "#C8D4E3"
             },
             "line": {
              "color": "white"
             }
            },
            "type": "table"
           }
          ]
         },
         "layout": {
          "annotationdefaults": {
           "arrowcolor": "#2a3f5f",
           "arrowhead": 0,
           "arrowwidth": 1
          },
          "autotypenumbers": "strict",
          "coloraxis": {
           "colorbar": {
            "outlinewidth": 0,
            "ticks": ""
           }
          },
          "colorscale": {
           "diverging": [
            [
             0,
             "#8e0152"
            ],
            [
             0.1,
             "#c51b7d"
            ],
            [
             0.2,
             "#de77ae"
            ],
            [
             0.3,
             "#f1b6da"
            ],
            [
             0.4,
             "#fde0ef"
            ],
            [
             0.5,
             "#f7f7f7"
            ],
            [
             0.6,
             "#e6f5d0"
            ],
            [
             0.7,
             "#b8e186"
            ],
            [
             0.8,
             "#7fbc41"
            ],
            [
             0.9,
             "#4d9221"
            ],
            [
             1,
             "#276419"
            ]
           ],
           "sequential": [
            [
             0,
             "#0d0887"
            ],
            [
             0.1111111111111111,
             "#46039f"
            ],
            [
             0.2222222222222222,
             "#7201a8"
            ],
            [
             0.3333333333333333,
             "#9c179e"
            ],
            [
             0.4444444444444444,
             "#bd3786"
            ],
            [
             0.5555555555555556,
             "#d8576b"
            ],
            [
             0.6666666666666666,
             "#ed7953"
            ],
            [
             0.7777777777777778,
             "#fb9f3a"
            ],
            [
             0.8888888888888888,
             "#fdca26"
            ],
            [
             1,
             "#f0f921"
            ]
           ],
           "sequentialminus": [
            [
             0,
             "#0d0887"
            ],
            [
             0.1111111111111111,
             "#46039f"
            ],
            [
             0.2222222222222222,
             "#7201a8"
            ],
            [
             0.3333333333333333,
             "#9c179e"
            ],
            [
             0.4444444444444444,
             "#bd3786"
            ],
            [
             0.5555555555555556,
             "#d8576b"
            ],
            [
             0.6666666666666666,
             "#ed7953"
            ],
            [
             0.7777777777777778,
             "#fb9f3a"
            ],
            [
             0.8888888888888888,
             "#fdca26"
            ],
            [
             1,
             "#f0f921"
            ]
           ]
          },
          "colorway": [
           "#636efa",
           "#EF553B",
           "#00cc96",
           "#ab63fa",
           "#FFA15A",
           "#19d3f3",
           "#FF6692",
           "#B6E880",
           "#FF97FF",
           "#FECB52"
          ],
          "font": {
           "color": "#2a3f5f"
          },
          "geo": {
           "bgcolor": "white",
           "lakecolor": "white",
           "landcolor": "#E5ECF6",
           "showlakes": true,
           "showland": true,
           "subunitcolor": "white"
          },
          "hoverlabel": {
           "align": "left"
          },
          "hovermode": "closest",
          "mapbox": {
           "style": "light"
          },
          "paper_bgcolor": "white",
          "plot_bgcolor": "#E5ECF6",
          "polar": {
           "angularaxis": {
            "gridcolor": "white",
            "linecolor": "white",
            "ticks": ""
           },
           "bgcolor": "#E5ECF6",
           "radialaxis": {
            "gridcolor": "white",
            "linecolor": "white",
            "ticks": ""
           }
          },
          "scene": {
           "xaxis": {
            "backgroundcolor": "#E5ECF6",
            "gridcolor": "white",
            "gridwidth": 2,
            "linecolor": "white",
            "showbackground": true,
            "ticks": "",
            "zerolinecolor": "white"
           },
           "yaxis": {
            "backgroundcolor": "#E5ECF6",
            "gridcolor": "white",
            "gridwidth": 2,
            "linecolor": "white",
            "showbackground": true,
            "ticks": "",
            "zerolinecolor": "white"
           },
           "zaxis": {
            "backgroundcolor": "#E5ECF6",
            "gridcolor": "white",
            "gridwidth": 2,
            "linecolor": "white",
            "showbackground": true,
            "ticks": "",
            "zerolinecolor": "white"
           }
          },
          "shapedefaults": {
           "line": {
            "color": "#2a3f5f"
           }
          },
          "ternary": {
           "aaxis": {
            "gridcolor": "white",
            "linecolor": "white",
            "ticks": ""
           },
           "baxis": {
            "gridcolor": "white",
            "linecolor": "white",
            "ticks": ""
           },
           "bgcolor": "#E5ECF6",
           "caxis": {
            "gridcolor": "white",
            "linecolor": "white",
            "ticks": ""
           }
          },
          "title": {
           "x": 0.05
          },
          "xaxis": {
           "automargin": true,
           "gridcolor": "white",
           "linecolor": "white",
           "ticks": "",
           "title": {
            "standoff": 15
           },
           "zerolinecolor": "white",
           "zerolinewidth": 2
          },
          "yaxis": {
           "automargin": true,
           "gridcolor": "white",
           "linecolor": "white",
           "ticks": "",
           "title": {
            "standoff": 15
           },
           "zerolinecolor": "white",
           "zerolinewidth": 2
          }
         }
        },
        "title": {
         "text": "Class Distribution of Dog Breeds"
        },
        "width": 1000,
        "xaxis": {
         "anchor": "y",
         "domain": [
          0,
          1
         ],
         "tickangle": -45,
         "title": {
          "text": "Dog Breeds"
         }
        },
        "yaxis": {
         "anchor": "x",
         "domain": [
          0,
          1
         ],
         "title": {
          "text": "Number of Images"
         }
        }
       }
      }
     },
     "metadata": {},
     "output_type": "display_data"
    }
   ],
   "source": [
    "fig = px.bar(\n",
    "    class_distribution,\n",
    "    x=class_distribution.index,\n",
    "    y=class_distribution.values,\n",
    "    labels={'x': 'Breed', 'y': 'Number of Images'},\n",
    "    title='Class Distribution of Dog Breeds',\n",
    "    hover_name=class_distribution.index,\n",
    ")\n",
    "\n",
    "# Update the layout for better readability\n",
    "fig.update_layout(\n",
    "    xaxis_title=\"Dog Breeds\",\n",
    "    yaxis_title=\"Number of Images\",\n",
    "    xaxis_tickangle=-45,\n",
    "    showlegend=False,\n",
    "    height=600,\n",
    "    width=1000\n",
    ")\n",
    "\n",
    "# Show the figure\n",
    "fig.show()"
   ]
  },
  {
   "cell_type": "markdown",
   "metadata": {},
   "source": [
    "## Analysis of the Dataset Distribution"
   ]
  },
  {
   "cell_type": "markdown",
   "metadata": {},
   "source": [
    "1. **Number of Classes**\n",
    "- There are **120 dog breeds** (classes) in total, which provides a good variety for classification.\n",
    "\n",
    "2. **Most Frequent Breeds (Top 10)**\n",
    "- The most frequent breeds range from **126 to 109 images**.\n",
    "- The Scottish Deerhound has the highest representation with **126 images**, followed by breeds like Maltese Dog, Afghan Hound, and Entlebucher.\n",
    "- These top breeds have more samples, which can positively influence the model's ability to classify them accurately. The more images per class, the better a model can generalize.\n",
    "\n",
    "3. **Least Frequent Breeds (Bottom 10)**\n",
    "- The least frequent breeds have between **69 and 66 images**, such as Otterhound, German Shepherd, and Golden Retriever.\n",
    "- With fewer images per breed, the model might struggle to classify these breeds, as fewer samples mean less variability for the model to learn from. The model may either underfit or have difficulty generalizing for these underrepresented classes.\n",
    "\n",
    "4. **Range of Distribution**\n",
    "- The difference between the most frequent breed (126 images) and the least frequent breed (66 images) is **60 images**. This shows a noticeable imbalance, but it is not extreme.\n",
    "- The dataset is skewed, but the variation is somewhat moderate (not excessively disproportionate like some other datasets that might have hundreds of images for one class and only a few for others)."
   ]
  },
  {
   "cell_type": "markdown",
   "metadata": {},
   "source": [
    "## Conclusion"
   ]
  },
  {
   "cell_type": "markdown",
   "metadata": {},
   "source": [
    "- **Moderate Class Imbalance**: While there is an imbalance in the number of images per class, it is not drastic. However, the lower end (66-69 images) might require special attention during model training.\n",
    "  \n",
    "- **Impact on Model Performance**: Classes with more images (such as the top 10 breeds) will likely be easier for the model to classify, while underrepresented classes (bottom 10 breeds) might suffer from underfitting or lower accuracy."
   ]
  },
  {
   "cell_type": "markdown",
   "metadata": {},
   "source": [
    "## Recommendations"
   ]
  },
  {
   "cell_type": "markdown",
   "metadata": {},
   "source": [
    "1. **Data Augmentation for Minor Classes**: Consider applying augmentation techniques (e.g., rotations, flips, zooms) to increase the variability of the underrepresented breeds.\n",
    "2. **Class Weights**: During training, you can assign class weights to penalize errors in underrepresented classes more heavily, balancing the model’s focus across all breeds.\n",
    "3. **Stratified Sampling**: When splitting data for training and testing, ensure stratified sampling to maintain class proportions in both sets, preventing further imbalance.\n",
    "\n",
    "By balancing these classes and applying the right preprocessing, you can mitigate the challenges posed by class imbalance and improve the model's overall performance."
   ]
  }
 ],
 "metadata": {
  "kernelspec": {
   "display_name": "Python 3",
   "language": "python",
   "name": "python3"
  },
  "language_info": {
   "codemirror_mode": {
    "name": "ipython",
    "version": 3
   },
   "file_extension": ".py",
   "mimetype": "text/x-python",
   "name": "python",
   "nbconvert_exporter": "python",
   "pygments_lexer": "ipython3",
   "version": "3.9.12"
  }
 },
 "nbformat": 4,
 "nbformat_minor": 2
}
